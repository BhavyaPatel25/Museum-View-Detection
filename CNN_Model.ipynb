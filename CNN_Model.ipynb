{
  "nbformat": 4,
  "nbformat_minor": 0,
  "metadata": {
    "colab": {
      "provenance": [],
      "gpuType": "T4"
    },
    "kernelspec": {
      "name": "python3",
      "display_name": "Python 3"
    },
    "language_info": {
      "name": "python"
    },
    "accelerator": "GPU"
  },
  "cells": [
    {
      "cell_type": "code",
      "execution_count": 1,
      "metadata": {
        "colab": {
          "base_uri": "https://localhost:8080/"
        },
        "id": "2HiEGHxYd1wy",
        "outputId": "3aef6ef2-4989-42e1-e47c-062fee715ca2"
      },
      "outputs": [
        {
          "output_type": "stream",
          "name": "stdout",
          "text": [
            "Mounted at /content/drive\n"
          ]
        }
      ],
      "source": [
        "from google.colab import drive\n",
        "drive.mount('/content/drive')"
      ]
    },
    {
      "cell_type": "code",
      "source": [
        "# Extracting the dataset from the zip file\n",
        "import zipfile\n",
        "zip_ref = zipfile.ZipFile(\"/content/drive/MyDrive/museum_train.zip\", \"r\")\n",
        "zip_ref.extractall()\n",
        "zip_ref.close()"
      ],
      "metadata": {
        "id": "2n7GmZwDeLIJ"
      },
      "execution_count": 2,
      "outputs": []
    },
    {
      "cell_type": "code",
      "source": [
        "import torch\n",
        "import torch.nn as nn\n",
        "import torch.optim as optim\n",
        "from torchvision import datasets, transforms\n",
        "from torch.utils.data import DataLoader, Subset\n",
        "from torchvision.datasets import ImageFolder\n",
        "import numpy as np\n",
        "from sklearn.model_selection import train_test_split"
      ],
      "metadata": {
        "id": "_-Q6cA1kePyI"
      },
      "execution_count": 3,
      "outputs": []
    },
    {
      "cell_type": "code",
      "source": [
        "# Normalized tensor\n",
        "transform = transforms.Compose([\n",
        "    transforms.Resize((64, 64)),\n",
        "    transforms.ToTensor()\n",
        "])"
      ],
      "metadata": {
        "id": "09nLO5bteR8o"
      },
      "execution_count": 4,
      "outputs": []
    },
    {
      "cell_type": "code",
      "source": [
        "dataset = ImageFolder(root='/content/museum_train', transform=transform)"
      ],
      "metadata": {
        "id": "DuS_BvWIeTGg"
      },
      "execution_count": 5,
      "outputs": []
    },
    {
      "cell_type": "code",
      "source": [
        "indices = np.arange(len(dataset))\n",
        "\n",
        "train_idx, test_idx = train_test_split(indices, test_size=0.2, stratify=dataset.targets, random_state=42)\n",
        "\n",
        "# Create subsets\n",
        "train_set = Subset(dataset, train_idx)\n",
        "test_set = Subset(dataset, test_idx)"
      ],
      "metadata": {
        "id": "K8ydjWlAeU7_"
      },
      "execution_count": 6,
      "outputs": []
    },
    {
      "cell_type": "code",
      "source": [
        "train_loader = DataLoader(train_set, batch_size=32, shuffle=True)\n",
        "test_loader = DataLoader(test_set, batch_size=32, shuffle=False)"
      ],
      "metadata": {
        "id": "ggaE6pfBeWE_"
      },
      "execution_count": 7,
      "outputs": []
    },
    {
      "cell_type": "code",
      "source": [
        "class Model_1(nn.Module):\n",
        "    def __init__(self, num_classes):\n",
        "        super(Model_1, self).__init__()\n",
        "        self.conv1 = nn.Conv2d(3, 32, kernel_size=3, padding=1)\n",
        "        self.pool = nn.MaxPool2d(2, 2)\n",
        "        self.conv2 = nn.Conv2d(32, 64, kernel_size=3, padding=1)\n",
        "        self.fc1 = nn.Linear(64 * 16 * 16, 128)\n",
        "        self.fc2 = nn.Linear(128, num_classes)\n",
        "\n",
        "    def forward(self, x):\n",
        "        x = self.pool(torch.relu(self.conv1(x)))\n",
        "        x = self.pool(torch.relu(self.conv2(x)))\n",
        "        x = x.view(x.size(0), -1)\n",
        "        x = torch.relu(self.fc1(x))\n",
        "        x = self.fc2(x)\n",
        "        return x"
      ],
      "metadata": {
        "id": "FZMNelzGeXSX"
      },
      "execution_count": 8,
      "outputs": []
    },
    {
      "cell_type": "code",
      "source": [
        "num_classes = len(dataset.classes)\n",
        "model_1 = Model_1(num_classes)\n",
        "criterion = nn.CrossEntropyLoss()\n",
        "optimizer = optim.Adam(model_1.parameters(), lr=0.001)\n",
        "num_epochs = 10"
      ],
      "metadata": {
        "id": "_BT-lp-leYm5"
      },
      "execution_count": 9,
      "outputs": []
    },
    {
      "cell_type": "code",
      "source": [
        "device = torch.device('cuda' if torch.cuda.is_available() else 'cpu')\n",
        "model_1 = model_1.to(device)\n",
        "\n",
        "for epoch in range(num_epochs):\n",
        "    model_1.train()\n",
        "    running_loss = 0.0\n",
        "    correct = 0\n",
        "    total = 0\n",
        "\n",
        "    for images, labels in train_loader:\n",
        "\n",
        "        images, labels = images.to(device), labels.to(device)\n",
        "\n",
        "        optimizer.zero_grad()\n",
        "\n",
        "        outputs = model_1(images)\n",
        "\n",
        "        loss = criterion(outputs, labels)\n",
        "\n",
        "        loss.backward()\n",
        "        optimizer.step()\n",
        "\n",
        "        running_loss += loss.item()\n",
        "\n",
        "        _, predicted = torch.max(outputs, 1)\n",
        "        total += labels.size(0)\n",
        "        correct += (predicted == labels).sum().item()\n",
        "\n",
        "    train_acc = 100 * correct / total\n",
        "    train_loss = running_loss / len(train_loader)\n",
        "\n",
        "    print(f\"Epoch {epoch+1}/{num_epochs} | Loss: {train_loss:.4f} | Accuracy: {train_acc:.2f}%\")"
      ],
      "metadata": {
        "colab": {
          "base_uri": "https://localhost:8080/"
        },
        "id": "b6C46O-EeZyg",
        "outputId": "175135bb-d5f4-4875-9953-75284b9d9a39"
      },
      "execution_count": 10,
      "outputs": [
        {
          "output_type": "stream",
          "name": "stdout",
          "text": [
            "Epoch 1/10 | Loss: 0.3430 | Accuracy: 85.84%\n",
            "Epoch 2/10 | Loss: 0.2698 | Accuracy: 89.59%\n",
            "Epoch 3/10 | Loss: 0.2474 | Accuracy: 90.60%\n",
            "Epoch 4/10 | Loss: 0.2297 | Accuracy: 91.24%\n",
            "Epoch 5/10 | Loss: 0.2038 | Accuracy: 92.17%\n",
            "Epoch 6/10 | Loss: 0.1881 | Accuracy: 92.78%\n",
            "Epoch 7/10 | Loss: 0.1587 | Accuracy: 93.80%\n",
            "Epoch 8/10 | Loss: 0.1227 | Accuracy: 95.39%\n",
            "Epoch 9/10 | Loss: 0.0928 | Accuracy: 96.38%\n",
            "Epoch 10/10 | Loss: 0.0610 | Accuracy: 97.79%\n"
          ]
        }
      ]
    },
    {
      "cell_type": "code",
      "source": [
        "from sklearn.metrics import accuracy_score, precision_score, recall_score, f1_score, ConfusionMatrixDisplay\n",
        "\n",
        "y_true = []\n",
        "y_pred = []\n",
        "\n",
        "with torch.no_grad():\n",
        "    for images, labels in test_loader:\n",
        "        images = images.to(device)\n",
        "        outputs = model_1(images)\n",
        "        _, predicted = torch.max(outputs, 1)\n",
        "\n",
        "        y_pred.extend(predicted.cpu().numpy())\n",
        "        y_true.extend(labels.numpy())\n",
        "\n",
        "accuracy = accuracy_score(y_true, y_pred)\n",
        "precision = precision_score(y_true, y_pred, average='binary')\n",
        "recall = recall_score(y_true, y_pred, average='binary')\n",
        "f1score = f1_score(y_true, y_pred, average='binary')\n",
        "\n",
        "print(\"Evaluation Metrics:\")\n",
        "print(f\"Accuracy: {accuracy * 100:.2f}%\")\n",
        "print(f\"Precision: {precision * 100:.2f}%\")\n",
        "print(f\"Recall: {recall * 100:.2f}%\")\n",
        "print(f\"F1 Score: {f1score * 100:.2f}%\")\n",
        "\n",
        "ConfusionMatrixDisplay.from_predictions(y_true, y_pred, display_labels=dataset.classes)"
      ],
      "metadata": {
        "colab": {
          "base_uri": "https://localhost:8080/",
          "height": 553
        },
        "id": "ZEvqdeYgebcA",
        "outputId": "53570954-fd21-4bd2-a66a-5c17be4c9e41"
      },
      "execution_count": 11,
      "outputs": [
        {
          "output_type": "stream",
          "name": "stdout",
          "text": [
            "Evaluation Metrics:\n",
            "Accuracy: 91.30%\n",
            "Precision: 91.80%\n",
            "Recall: 90.70%\n",
            "F1 Score: 91.25%\n"
          ]
        },
        {
          "output_type": "execute_result",
          "data": {
            "text/plain": [
              "<sklearn.metrics._plot.confusion_matrix.ConfusionMatrixDisplay at 0x7950cfae83d0>"
            ]
          },
          "metadata": {},
          "execution_count": 11
        },
        {
          "output_type": "display_data",
          "data": {
            "text/plain": [
              "<Figure size 640x480 with 2 Axes>"
            ],
            "image/png": "[encoded data removed]"
          },
          "metadata": {}
        }
      ]
    },
    {
      "cell_type": "code",
      "source": [
        "torch.save(model_1, \"museum_detection_cnn_model_1.pth\")"
      ],
      "metadata": {
        "id": "JcArlrKYfAko"
      },
      "execution_count": 12,
      "outputs": []
    },
    {
      "cell_type": "code",
      "source": [],
      "metadata": {
        "id": "dTY3j8_ifC5Y"
      },
      "execution_count": null,
      "outputs": []
    }
  ]
}