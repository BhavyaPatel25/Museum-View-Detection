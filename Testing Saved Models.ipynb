{
  "nbformat": 4,
  "nbformat_minor": 0,
  "metadata": {
    "colab": {
      "provenance": [],
      "gpuType": "T4"
    },
    "kernelspec": {
      "name": "python3",
      "display_name": "Python 3"
    },
    "language_info": {
      "name": "python"
    },
    "accelerator": "GPU"
  },
  "cells": [
    {
      "cell_type": "markdown",
      "source": [
        "# Museum Detection (COMP 6721)\n",
        "\n",
        "Done by:\n",
        "\n",
        "1. Bhavya Patel (40304250)\n",
        "2. Yashesh Sorathia (40267022)\n",
        "3. Chama Amri Toudrhi (40180557)"
      ],
      "metadata": {
        "id": "OJUViAamnJ1h"
      }
    },
    {
      "cell_type": "code",
      "execution_count": 1,
      "metadata": {
        "colab": {
          "base_uri": "https://localhost:8080/"
        },
        "id": "Mcl9FGiUnFc5",
        "outputId": "72e8c0c3-969e-4e9c-a7ae-8ff9321146de"
      },
      "outputs": [
        {
          "output_type": "stream",
          "name": "stdout",
          "text": [
            "Mounted at /content/drive\n"
          ]
        }
      ],
      "source": [
        "from google.colab import drive\n",
        "drive.mount('/content/drive')"
      ]
    },
    {
      "cell_type": "markdown",
      "source": [
        "## Extracting all the models and test_images"
      ],
      "metadata": {
        "id": "9TETw1Zotl2d"
      }
    },
    {
      "cell_type": "code",
      "source": [
        "# Extracting all models from the zip file\n",
        "import zipfile\n",
        "zip_ref = zipfile.ZipFile(\"/content/drive/MyDrive/Models.zip\", \"r\")\n",
        "zip_ref.extractall()\n",
        "zip_ref.close()"
      ],
      "metadata": {
        "id": "-KRNZtv-nNEV"
      },
      "execution_count": 2,
      "outputs": []
    },
    {
      "cell_type": "code",
      "source": [
        "# Extracting the test dataset from the zip file\n",
        "import zipfile\n",
        "zip_ref = zipfile.ZipFile(\"/content/drive/MyDrive/test_images.zip\", \"r\")\n",
        "zip_ref.extractall()\n",
        "zip_ref.close()"
      ],
      "metadata": {
        "id": "fCGRRXRpnOCP"
      },
      "execution_count": 3,
      "outputs": []
    },
    {
      "cell_type": "markdown",
      "source": [
        "## Function for loading the saved model"
      ],
      "metadata": {
        "id": "n9-EHksktshP"
      }
    },
    {
      "cell_type": "code",
      "source": [
        "import pickle\n",
        "\n",
        "def load_model_pickle(path=\"model.pkl\"):\n",
        "    with open(path, 'rb') as f:\n",
        "        model = pickle.load(f)\n",
        "    print(f\"Model loaded from {path}\")\n",
        "    return model"
      ],
      "metadata": {
        "id": "CSau6l7iphxr"
      },
      "execution_count": 13,
      "outputs": []
    },
    {
      "cell_type": "markdown",
      "source": [
        "## Function for preprocessing the image"
      ],
      "metadata": {
        "id": "rSIwZs-utwJK"
      }
    },
    {
      "cell_type": "code",
      "source": [
        "from PIL import Image\n",
        "import numpy as np\n",
        "\n",
        "def load_single_images(image):\n",
        "    img = Image.open(image)\n",
        "    img = img.resize((64, 64))\n",
        "    img = img.convert('L')\n",
        "    img = np.array(img).flatten()\n",
        "    img = img/255\n",
        "    return img"
      ],
      "metadata": {
        "id": "LXtLGnpCsCB-"
      },
      "execution_count": 16,
      "outputs": []
    },
    {
      "cell_type": "code",
      "source": [
        "# Setting up path for all the models extracted from the zip file\n",
        "\n",
        "# NOTE: Extract Models.zip file then only run this code cell\n",
        "\n",
        "boost_model_1 = \"/content/Models/Boosting Models/museum_detection_boosting_model_1.pkl\"\n",
        "boost_model_2 = \"/content/Models/Boosting Models/museum_detection_boosting_model_2.pkl\"\n",
        "boost_model_3 = \"/content/Models/Boosting Models/museum_detection_boosting_model_3.pkl\"\n",
        "decision_tree_model_1 = \"/content/Models/Decision Tree Models/museum_detection_dt_model_1.pkl\"\n",
        "decision_tree_model_2 = \"/content/Models/Decision Tree Models/museum_detection_dt_model_2.pkl\"\n",
        "decision_tree_model_3 = \"/content/Models/Decision Tree Models/museum_detection_dt_model_3.pkl\"\n",
        "random_forest_model_1 = \"/content/Models/Random Forest Models/museum_detection_randomforest_model_1.pkl\"\n",
        "random_forest_model_2 = \"/content/Models/Random Forest Models/museum_detection_randomforest_model_2.pkl\"\n",
        "random_forest_model_3 = \"/content/Models/Random Forest Models/museum_detection_randomforest_model_3.pkl\"\n",
        "decision_tree_semi_supervised_model_1 = \"/content/Models/Decision Tree Semi Supervised Models/museum_detection_dt_ss_model_1.pkl\"\n",
        "decision_tree_semi_supervised_model_2 = \"/content/Models/Decision Tree Semi Supervised Models/museum_detection_dt_ss_model_2.pkl\"\n",
        "decision_tree_semi_supervised_model_3 = \"/content/Models/Decision Tree Semi Supervised Models/museum_detection_dt_ss_model_3.pkl\""
      ],
      "metadata": {
        "id": "lNk5wNC1oucJ"
      },
      "execution_count": 24,
      "outputs": []
    },
    {
      "cell_type": "markdown",
      "source": [
        "## Console for User Testing"
      ],
      "metadata": {
        "id": "_wtyZpfsuFxY"
      }
    },
    {
      "cell_type": "code",
      "source": [
        "print(\"1. Boosting Models\")\n",
        "print(\"2. Decision Tree Models\")\n",
        "print(\"3. Random Forest Models\")\n",
        "print(\"4. Decision Tree Semi Supervised Models\")\n",
        "choice = int(input(\"Choose your option from 1 to 4: \"))\n",
        "\n",
        "model_num = int(input(\"Choose which model out of 3 you want to test: \"))\n",
        "\n",
        "if(choice==1):\n",
        "  if(model_num==1):\n",
        "    my_model = load_model_pickle(boost_model_1)\n",
        "  elif(model_num==2):\n",
        "    my_model = load_model_pickle(boost_model_2)\n",
        "  elif(model_num==3):\n",
        "    my_model = load_model_pickle(boost_model_3)\n",
        "  print(\"Loaded Boosting Model #\"+str(model_num))\n",
        "\n",
        "elif(choice==2):\n",
        "  if(model_num==1):\n",
        "    my_model = load_model_pickle(decision_tree_model_1)\n",
        "  elif(model_num==2):\n",
        "    my_model = load_model_pickle(decision_tree_model_2)\n",
        "  elif(model_num==3):\n",
        "    my_model = load_model_pickle(decision_tree_model_3)\n",
        "  print(\"Loaded Decision Tree Model #\"+str(model_num))\n",
        "\n",
        "elif(choice==3):\n",
        "  if(model_num==1):\n",
        "    my_model = load_model_pickle(random_forest_model_1)\n",
        "  elif(model_num==2):\n",
        "    my_model = load_model_pickle(random_forest_model_2)\n",
        "  elif(model_num==3):\n",
        "    my_model = load_model_pickle(random_forest_model_3)\n",
        "  print(\"Loaded Random Forest Classifier Model #\"+str(model_num))\n",
        "\n",
        "elif(choice==4):\n",
        "  if(model_num==1):\n",
        "    my_model = load_model_pickle(decision_tree_semi_supervised_model_1)\n",
        "  elif(model_num==2):\n",
        "    my_model = load_model_pickle(decision_tree_semi_supervised_model_2)\n",
        "  elif(model_num==3):\n",
        "    my_model = load_model_pickle(decision_tree_semi_supervised_model_3)\n",
        "  print(\"Loaded Decision Tree Semi Supervised Model #\"+str(model_num))\n",
        "\n",
        "test_image_path = input(\"Pass your test image path: \")\n",
        "test_image = load_single_images(test_image_path)\n",
        "\n",
        "if(my_model.predict(test_image.reshape(1,-1)) == 0):\n",
        "  print(\"Indoor Museum\")\n",
        "else:\n",
        "  print(\"Outdoor Museum\")"
      ],
      "metadata": {
        "colab": {
          "base_uri": "https://localhost:8080/"
        },
        "id": "q6m8IRwApqqp",
        "outputId": "10d3bb2f-547b-492b-f8d1-2e4c110cea3f"
      },
      "execution_count": 23,
      "outputs": [
        {
          "output_type": "stream",
          "name": "stdout",
          "text": [
            "1. Boosting Models\n",
            "2. Decision Tree Models\n",
            "3. Random Forest Models\n",
            "4. Decision Tree Semi Supervised Models\n",
            "Choose your option from 1 to 4: 1\n",
            "Choose which model out of 3 you want to test: 1\n",
            "Model loaded from /content/Models/Boosting Models/museum_detection_boosting_model_1.pkl\n",
            "Loaded Boosting Model #1\n",
            "Pass your test image path: /content/test_images/test_image_8.JPG\n",
            "Outdoor Museum\n"
          ]
        }
      ]
    },
    {
      "cell_type": "code",
      "source": [],
      "metadata": {
        "id": "sM-yKBo7qJd8"
      },
      "execution_count": null,
      "outputs": []
    }
  ]
}