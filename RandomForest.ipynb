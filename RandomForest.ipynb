{
 "cells": [
  {
   "cell_type": "code",
   "execution_count": 18,
   "id": "37bba143-dcf7-4b7b-9aae-5fe0b10d9ed6",
   "metadata": {},
   "outputs": [],
   "source": [
    "import os\n",
    "from PIL import Image\n",
    "import numpy as np\n",
    "from sklearn.model_selection import train_test_split\n",
    "from sklearn.ensemble import RandomForestClassifier\n",
    "from sklearn.metrics import accuracy_score, recall_score, precision_score, f1_score, ConfusionMatrixDisplay"
   ]
  },
  {
   "cell_type": "code",
   "execution_count": 2,
   "id": "82c13f2c-5112-42b5-8603-0356de413d86",
   "metadata": {},
   "outputs": [],
   "source": [
    "indoor_train_path = 'museum_train/indoor/'\n",
    "outdoor_train_path = 'museum_train/outdoor/'"
   ]
  },
  {
   "cell_type": "code",
   "execution_count": 3,
   "id": "94a2130a-2867-4d96-a6a1-907344c9702b",
   "metadata": {},
   "outputs": [],
   "source": [
    "def load_images_from_folder(folder, label):\n",
    "    images = []\n",
    "    labels = []\n",
    "    for filename in os.listdir(folder):\n",
    "        img = Image.open(os.path.join(folder, filename))\n",
    "        img = img.resize((224, 224))  # Resize images to a common size\n",
    "        img = img.convert('L')  # Convert to grayscale (optional)\n",
    "        img = np.array(img).flatten()  # Flatten the image to 1D array\n",
    "        img = img/255\n",
    "        images.append(img)\n",
    "        labels.append(label)\n",
    "    return images, labels"
   ]
  },
  {
   "cell_type": "code",
   "execution_count": 4,
   "id": "5e75c40b-0d5c-469e-8478-7c1d85e7dd74",
   "metadata": {},
   "outputs": [],
   "source": [
    "indoor_train_images, indoor_train_labels = load_images_from_folder(indoor_train_path, label=0)\n",
    "outdoor_train_images, outdoor_train_labels = load_images_from_folder(outdoor_train_path, label=1)"
   ]
  },
  {
   "cell_type": "code",
   "execution_count": 5,
   "id": "1b13a431-8a84-40bb-a78f-3c2959b73ff3",
   "metadata": {},
   "outputs": [],
   "source": [
    "X = np.array(indoor_train_images + outdoor_train_images)\n",
    "y = np.array(indoor_train_labels + outdoor_train_labels)"
   ]
  },
  {
   "cell_type": "code",
   "execution_count": 6,
   "id": "733e3bfc-9c49-4da2-b7e8-734dd15c7219",
   "metadata": {},
   "outputs": [],
   "source": [
    "X_train, X_test, y_train, y_test = train_test_split(X, y, test_size=0.2, random_state=42)"
   ]
  },
  {
   "cell_type": "code",
   "execution_count": null,
   "id": "c11f3da8-f6f6-4315-a9c4-103ff7906be6",
   "metadata": {},
   "outputs": [
    {
     "name": "stderr",
     "output_type": "stream",
     "text": [
      "[Parallel(n_jobs=20)]: Using backend ThreadingBackend with 20 concurrent workers.\n",
      "[Parallel(n_jobs=20)]: Done  10 tasks      | elapsed:   29.6s\n"
     ]
    }
   ],
   "source": [
    "model = RandomForestClassifier(n_jobs=20, n_estimators=200,verbose=1,random_state=42)\n",
    "model.fit(X_train,y_train)"
   ]
  },
  {
   "cell_type": "code",
   "execution_count": 19,
   "id": "9b5c0f0a-62f2-427b-9868-987839eac96d",
   "metadata": {},
   "outputs": [
    {
     "name": "stdout",
     "output_type": "stream",
     "text": [
      "Accuracy: 77.45%\n",
      "Precision: 78.66%\n",
      "Recall: 74.60%\n",
      "F1 Score: 76.57%\n"
     ]
    },
    {
     "data": {
      "text/plain": [
       "<sklearn.metrics._plot.confusion_matrix.ConfusionMatrixDisplay at 0x2157088b5c0>"
      ]
     },
     "execution_count": 19,
     "metadata": {},
     "output_type": "execute_result"
    },
    {
     "data": {
      "image/png": "[encoded data removed]",
      "text/plain": [
       "<Figure size 640x480 with 2 Axes>"
      ]
     },
     "metadata": {},
     "output_type": "display_data"
    }
   ],
   "source": [
    "y_pred = model.predict(X_test)\n",
    "\n",
    "accuracy = accuracy_score(y_test, y_pred)\n",
    "precision = precision_score(y_test,y_pred)\n",
    "recall = recall_score(y_test,y_pred)\n",
    "f1_score = f1_score(y_test,y_pred)\n",
    "\n",
    "print(f'Accuracy: {accuracy * 100:.2f}%')\n",
    "print(f'Precision: {precision * 100:.2f}%')\n",
    "print(f'Recall: {recall * 100:.2f}%')\n",
    "print(f'F1 Score: {f1_score * 100:.2f}%')\n",
    "ConfusionMatrixDisplay.from_predictions(y_test,y_pred,display_labels=['indoor','outdoor'])"
   ]
  },
  {
   "cell_type": "code",
   "execution_count": 21,
   "id": "ce14a55a-23a4-45ae-8141-74e44801e78f",
   "metadata": {},
   "outputs": [],
   "source": [
    "import pickle\n",
    "\n",
    "model_pkl_file = \"museum_model_randomforest.pkl\"  \n",
    "\n",
    "with open(model_pkl_file, 'wb') as file:  \n",
    "    pickle.dump(model, file)"
   ]
  },
  {
   "cell_type": "code",
   "execution_count": 22,
   "id": "5c2397d2-5aca-40b9-8712-b4502e1e55e0",
   "metadata": {},
   "outputs": [],
   "source": [
    "def load_single_images(image):\n",
    "    img = Image.open(image)\n",
    "    img = img.resize((224, 224))  \n",
    "    img = img.convert('L')  \n",
    "    img = np.array(img).flatten()  \n",
    "    img = img/255\n",
    "    return img"
   ]
  },
  {
   "cell_type": "code",
   "execution_count": 24,
   "id": "8943fe99-bb4e-4701-914c-e62e1312a801",
   "metadata": {},
   "outputs": [],
   "source": [
    "my_img = load_single_images('00000023.jpg')"
   ]
  },
  {
   "cell_type": "code",
   "execution_count": 26,
   "id": "d946c679-d224-4331-8e2a-2338cb9c43ff",
   "metadata": {},
   "outputs": [
    {
     "data": {
      "text/plain": [
       "array([0])"
      ]
     },
     "execution_count": 26,
     "metadata": {},
     "output_type": "execute_result"
    }
   ],
   "source": [
    "model.predict(my_img.reshape(1,-1))"
   ]
  },
  {
   "cell_type": "code",
   "execution_count": null,
   "id": "7ecc5f76-d9d2-4c7e-9987-c63b367d1e6e",
   "metadata": {},
   "outputs": [],
   "source": []
  }
 ],
 "metadata": {
  "kernelspec": {
   "display_name": "Python 3 (ipykernel)",
   "language": "python",
   "name": "python3"
  },
  "language_info": {
   "codemirror_mode": {
    "name": "ipython",
    "version": 3
   },
   "file_extension": ".py",
   "mimetype": "text/x-python",
   "name": "python",
   "nbconvert_exporter": "python",
   "pygments_lexer": "ipython3",
   "version": "3.12.0"
  }
 },
 "nbformat": 4,
 "nbformat_minor": 5
}
